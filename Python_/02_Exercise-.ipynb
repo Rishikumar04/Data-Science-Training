{
 "cells": [
  {
   "cell_type": "markdown",
   "metadata": {},
   "source": [
    "### The questions for the exercises are given above the cells and the expected output is given below the cell. Please type the code inserting a new cell below the question because if you run the expected output cell the output would vanish! Happy learning! "
   ]
  },
  {
   "cell_type": "markdown",
   "metadata": {},
   "source": [
    "## 1. Write a Python program to count the number of even and odd numbers from a series of numbers."
   ]
  },
  {
   "cell_type": "code",
   "execution_count": 1,
   "metadata": {},
   "outputs": [
    {
     "name": "stdout",
     "output_type": "stream",
     "text": [
      "Number of even numbers:5\n",
      "Number of odd numbers:4\n"
     ]
    }
   ],
   "source": [
    "#Intializing variable\n",
    "even_num=0\n",
    "odd_num=0\n",
    "for i in range(9):\n",
    "    #Checking number is odd or even\n",
    "    if i%2==0:\n",
    "        even_num+=1\n",
    "    else:\n",
    "        odd_num+=1\n",
    "print(f\"Number of even numbers:{even_num}\")\n",
    "print(f\"Number of odd numbers:{odd_num}\")"
   ]
  },
  {
   "cell_type": "code",
   "execution_count": null,
   "metadata": {},
   "outputs": [],
   "source": []
  },
  {
   "cell_type": "markdown",
   "metadata": {},
   "source": [
    "## 2. Write a Python program to find numbers between 100 and 400 (both included) where each digit of a number is an even number. The numbers obtained should be printed in a comma-separated sequence."
   ]
  },
  {
   "cell_type": "code",
   "execution_count": 3,
   "metadata": {},
   "outputs": [
    {
     "name": "stdout",
     "output_type": "stream",
     "text": [
      "200,202,204,206,208,220,222,224,226,228,240,242,244,246,248,260,262,264,266,268,280,282,284,286,288,400,"
     ]
    }
   ],
   "source": [
    "#Program to check all digit of number is even. \n",
    "for i in range(100,401):\n",
    "    num=str(i)\n",
    "    dgt_1st=int(num[0])\n",
    "    dgt_2nd=int(num[1])\n",
    "    dgt_3rd=int(num[2])\n",
    "    if (dgt_1st%2==0 and dgt_2nd%2==0 and dgt_3rd%2==0):\n",
    "        print(i,end=',')\n",
    "    "
   ]
  },
  {
   "cell_type": "code",
   "execution_count": null,
   "metadata": {},
   "outputs": [],
   "source": []
  },
  {
   "cell_type": "markdown",
   "metadata": {},
   "source": [
    "## 3. Write a Python program to calculate a dog's age in dog's years. Go to the editor\n",
    "Note: For the first two years, a dog year is equal to 10.5 human years. After that, each dog year equals 4 human years."
   ]
  },
  {
   "cell_type": "code",
   "execution_count": 5,
   "metadata": {},
   "outputs": [
    {
     "name": "stdout",
     "output_type": "stream",
     "text": [
      "Enter the age to calculate Dog's age:20\n",
      "Dog's age in human years: 20\n",
      "Dog's age in dog's years: 93\n"
     ]
    }
   ],
   "source": [
    "#Program to calculate dog's age:\n",
    "age=int(input(\"Enter the age to calculate Dog's age:\"))\n",
    "frst_yr=2\n",
    "lst_yr=age-frst_yr\n",
    "#Calculating Dog's age\n",
    "dog_age=int((frst_yr*10.5)+(lst_yr*4))\n",
    "print(\"Dog's age in human years:\",age)\n",
    "print(\"Dog's age in dog's years:\",dog_age)"
   ]
  },
  {
   "cell_type": "code",
   "execution_count": null,
   "metadata": {},
   "outputs": [],
   "source": []
  },
  {
   "cell_type": "markdown",
   "metadata": {},
   "source": [
    "## 4. Write a Python function that takes a number as a parameter and check the number is prime or not."
   ]
  },
  {
   "cell_type": "code",
   "execution_count": 6,
   "metadata": {},
   "outputs": [
    {
     "data": {
      "text/plain": [
       "False"
      ]
     },
     "execution_count": 6,
     "metadata": {},
     "output_type": "execute_result"
    }
   ],
   "source": [
    "#Program to check number is prime or not\n",
    "def prime(num):\n",
    "    a=1\n",
    "    for i in range(2,num):\n",
    "        #Checking if the number is divisible anyother number\n",
    "        if num%i==0:\n",
    "            a=0\n",
    "    return bool(a)\n",
    "prime(9)"
   ]
  },
  {
   "cell_type": "code",
   "execution_count": null,
   "metadata": {},
   "outputs": [],
   "source": []
  },
  {
   "cell_type": "markdown",
   "metadata": {},
   "source": [
    "## 5. Write a Python function that accepts a string and calculate the number of upper case letters and lower case letters. Go to the editor\n"
   ]
  },
  {
   "cell_type": "code",
   "execution_count": 8,
   "metadata": {},
   "outputs": [
    {
     "name": "stdout",
     "output_type": "stream",
     "text": [
      "Original String: Inceptz is One of The BeSt Places TO LEarn DataSciEnce\n",
      "No. of Upper case characters:   13\n",
      "No. of Lower case characters:   32\n"
     ]
    }
   ],
   "source": [
    "#Program to check number of upper case and lower case letters\n",
    "def alpha(name):\n",
    "    upper=0\n",
    "    lower=0\n",
    "    for i in name:\n",
    "        #Checking each letter is upper or lower\n",
    "        if i.isupper():\n",
    "            upper+=1\n",
    "        elif i.islower():\n",
    "            lower+=1\n",
    "        else:\n",
    "            pass\n",
    "    print(\"Original String:\",name)\n",
    "    print(\"No. of Upper case characters:  \",upper)\n",
    "    print(\"No. of Lower case characters:  \",lower)\n",
    "alpha('Inceptz is One of The BeSt Places TO LEarn DataSciEnce')"
   ]
  },
  {
   "cell_type": "code",
   "execution_count": null,
   "metadata": {},
   "outputs": [],
   "source": []
  },
  {
   "cell_type": "markdown",
   "metadata": {},
   "source": [
    "## 6. Write a Python program to reverse a string. "
   ]
  },
  {
   "cell_type": "code",
   "execution_count": 11,
   "metadata": {},
   "outputs": [
    {
     "name": "stdout",
     "output_type": "stream",
     "text": [
      "The Original String 1234abcd\n",
      "The Reversed String dcba4321\n"
     ]
    }
   ],
   "source": [
    "#Program to reverse the string\n",
    "def reverse(name):\n",
    "    print(\"The Original String\",name)\n",
    "    print(\"The Reversed String\",name[::-1])\n",
    "reverse('1234abcd')"
   ]
  },
  {
   "cell_type": "code",
   "execution_count": null,
   "metadata": {},
   "outputs": [],
   "source": []
  },
  {
   "cell_type": "markdown",
   "metadata": {},
   "source": [
    "## 7. Write a Python program to find  the greatest common divisor (gcd) of two integers."
   ]
  },
  {
   "cell_type": "code",
   "execution_count": 13,
   "metadata": {},
   "outputs": [
    {
     "name": "stdout",
     "output_type": "stream",
     "text": [
      "The two numbers are: (12,14)\n",
      "The GCD of the numbers are: 2\n"
     ]
    }
   ],
   "source": [
    "#Program to find gcd of two integers\n",
    "def gcd(x,y):\n",
    "    #Checking for small number of two integers\n",
    "    if(x>y):\n",
    "        small=y\n",
    "    else:\n",
    "        small=x\n",
    "    for i in range(2,small+1):\n",
    "        if(x%i==0 and y%i==0):\n",
    "            gcd=i\n",
    "    print(f\"The two numbers are: ({x},{y})\")\n",
    "    print(\"The GCD of the numbers are:\",gcd)\n",
    "gcd(12,14)"
   ]
  },
  {
   "cell_type": "code",
   "execution_count": null,
   "metadata": {},
   "outputs": [],
   "source": []
  },
  {
   "cell_type": "code",
   "execution_count": null,
   "metadata": {},
   "outputs": [],
   "source": []
  },
  {
   "cell_type": "code",
   "execution_count": null,
   "metadata": {},
   "outputs": [],
   "source": []
  }
 ],
 "metadata": {
  "kernelspec": {
   "display_name": "Python 3",
   "language": "python",
   "name": "python3"
  },
  "language_info": {
   "codemirror_mode": {
    "name": "ipython",
    "version": 3
   },
   "file_extension": ".py",
   "mimetype": "text/x-python",
   "name": "python",
   "nbconvert_exporter": "python",
   "pygments_lexer": "ipython3",
   "version": "3.8.5"
  }
 },
 "nbformat": 4,
 "nbformat_minor": 4
}
