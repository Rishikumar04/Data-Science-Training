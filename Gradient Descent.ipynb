{
 "cells": [
  {
   "cell_type": "markdown",
   "metadata": {},
   "source": [
    "### Gradient Descent"
   ]
  },
  {
   "cell_type": "code",
   "execution_count": 93,
   "metadata": {},
   "outputs": [
    {
     "name": "stdout",
     "output_type": "stream",
     "text": [
      "Enter no of iterations: 100\n",
      "Starting intercept b:0 and slope m:0\n",
      "After 100 iteration optimized intercept b:0.03507497059234178, optimized m:1.4788027175308358, error:112.6471\n"
     ]
    }
   ],
   "source": [
    "import numpy as np\n",
    "\n",
    "def error_computation(b, m, points):\n",
    "    total_error = 0\n",
    "    for i in range(len(points)):\n",
    "        x = points[i,0]\n",
    "        y = points[i,1]\n",
    "        total_error += (y - (m * x + b)) ** 2\n",
    "    avg_error = total_error / len(points)\n",
    "    return round(avg_error,4)\n",
    "\n",
    "def gradien_calc__(b_start, m_start, points, learningrate): \n",
    "    b_gradient = 0\n",
    "    m_gradient = 0\n",
    "    N = float(len(points))\n",
    "    for i in range(len(points)):\n",
    "        x = points[i,0]\n",
    "        y = points[i,1]\n",
    "        b_gradient += - 2/N * ((y) - (m_start * x + b_start))\n",
    "        m_gradient += - 2/N * x * ((y - (m_start * x + b_start)))\n",
    "        #print('Gradient', b_gradient, m_gradient)\n",
    "    #print(f'{i} iteration')\n",
    "    new_b = b_start - (b_gradient * learningrate)\n",
    "    new_m = m_start - (m_gradient * learningrate)\n",
    "    #print('New_b:',new_b,'Old_b:',new_m,'\\n')\n",
    "    return [new_b, new_m]\n",
    "points = np.genfromtxt('data_gd.csv',delimiter=',')\n",
    "b = 0 #intial slope value\n",
    "m = 0 #intial intercept value\n",
    "num_iteration = int(input('Enter no of iterations: ')) # no of iterations\n",
    "Learning_rate = 0.0001 #Learning rate \n",
    "print(f'Starting intercept b:{b} and slope m:{m}')\n",
    "for j in range(num_iteration):\n",
    "        #print('Inside loop',j)\n",
    "    b, m = gradien_calc__(b, m, points, Learning_rate)\n",
    "error = error_computation(b, m, points)\n",
    "print(f'After {num_iteration} iteration optimized intercept b:{b}, optimized m:{m}, error:{error}')"
   ]
  },
  {
   "cell_type": "code",
   "execution_count": null,
   "metadata": {},
   "outputs": [],
   "source": []
  }
 ],
 "metadata": {
  "kernelspec": {
   "display_name": "Python 3",
   "language": "python",
   "name": "python3"
  },
  "language_info": {
   "codemirror_mode": {
    "name": "ipython",
    "version": 3
   },
   "file_extension": ".py",
   "mimetype": "text/x-python",
   "name": "python",
   "nbconvert_exporter": "python",
   "pygments_lexer": "ipython3",
   "version": "3.8.5"
  }
 },
 "nbformat": 4,
 "nbformat_minor": 4
}
