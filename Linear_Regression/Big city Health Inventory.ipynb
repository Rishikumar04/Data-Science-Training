{
 "cells": [
  {
   "cell_type": "markdown",
   "metadata": {},
   "source": [
    "## Big City Health Data Inventory"
   ]
  },
  {
   "cell_type": "markdown",
   "metadata": {},
   "source": [
    "### Import Necessary Libraries"
   ]
  },
  {
   "cell_type": "code",
   "execution_count": 1,
   "metadata": {},
   "outputs": [],
   "source": [
    "import pandas as pd\n",
    "import numpy as np\n",
    "import matplotlib.pyplot as plt\n",
    "import seaborn as sns\n",
    "from sklearn.model_selection import train_test_split\n",
    "from sklearn.linear_model import LinearRegression\n",
    "from sklearn import metrics\n",
    "import datetime\n",
    "%matplotlib inline"
   ]
  },
  {
   "cell_type": "code",
   "execution_count": 2,
   "metadata": {},
   "outputs": [],
   "source": [
    "df = pd.read_csv('Big_Cities_Health_Data_Inventory.csv')"
   ]
  },
  {
   "cell_type": "markdown",
   "metadata": {},
   "source": [
    "### EDA"
   ]
  },
  {
   "cell_type": "code",
   "execution_count": 3,
   "metadata": {},
   "outputs": [
    {
     "data": {
      "text/html": [
       "<div>\n",
       "<style scoped>\n",
       "    .dataframe tbody tr th:only-of-type {\n",
       "        vertical-align: middle;\n",
       "    }\n",
       "\n",
       "    .dataframe tbody tr th {\n",
       "        vertical-align: top;\n",
       "    }\n",
       "\n",
       "    .dataframe thead th {\n",
       "        text-align: right;\n",
       "    }\n",
       "</style>\n",
       "<table border=\"1\" class=\"dataframe\">\n",
       "  <thead>\n",
       "    <tr style=\"text-align: right;\">\n",
       "      <th></th>\n",
       "      <th>Indicator Category</th>\n",
       "      <th>Indicator</th>\n",
       "      <th>Year</th>\n",
       "      <th>Gender</th>\n",
       "      <th>Race/ Ethnicity</th>\n",
       "      <th>Value</th>\n",
       "      <th>Place</th>\n",
       "      <th>BCHC Requested Methodology</th>\n",
       "      <th>Source</th>\n",
       "      <th>Methods</th>\n",
       "      <th>Notes</th>\n",
       "    </tr>\n",
       "  </thead>\n",
       "  <tbody>\n",
       "    <tr>\n",
       "      <th>0</th>\n",
       "      <td>HIV/AIDS</td>\n",
       "      <td>AIDS Diagnoses Rate (Per 100,000 people)</td>\n",
       "      <td>2013</td>\n",
       "      <td>Both</td>\n",
       "      <td>All</td>\n",
       "      <td>30.4</td>\n",
       "      <td>Atlanta (Fulton County), GA</td>\n",
       "      <td>AIDS cases diagnosed in 2012, 2013, 2014 (as a...</td>\n",
       "      <td>Diagnoses numbers were obtained from the Georg...</td>\n",
       "      <td>NaN</td>\n",
       "      <td>NaN</td>\n",
       "    </tr>\n",
       "    <tr>\n",
       "      <th>1</th>\n",
       "      <td>HIV/AIDS</td>\n",
       "      <td>AIDS Diagnoses Rate (Per 100,000 people)</td>\n",
       "      <td>2012</td>\n",
       "      <td>Both</td>\n",
       "      <td>All</td>\n",
       "      <td>39.6</td>\n",
       "      <td>Atlanta (Fulton County), GA</td>\n",
       "      <td>AIDS cases diagnosed in 2012, 2013, 2014 (as a...</td>\n",
       "      <td>Diagnoses numbers were obtained from the Georg...</td>\n",
       "      <td>NaN</td>\n",
       "      <td>NaN</td>\n",
       "    </tr>\n",
       "    <tr>\n",
       "      <th>2</th>\n",
       "      <td>HIV/AIDS</td>\n",
       "      <td>AIDS Diagnoses Rate (Per 100,000 people)</td>\n",
       "      <td>2011</td>\n",
       "      <td>Both</td>\n",
       "      <td>All</td>\n",
       "      <td>41.7</td>\n",
       "      <td>Atlanta (Fulton County), GA</td>\n",
       "      <td>AIDS cases diagnosed in 2012, 2013, 2014 (as a...</td>\n",
       "      <td>Diagnoses numbers were obtained from the Georg...</td>\n",
       "      <td>NaN</td>\n",
       "      <td>NaN</td>\n",
       "    </tr>\n",
       "    <tr>\n",
       "      <th>3</th>\n",
       "      <td>Cancer</td>\n",
       "      <td>All Types of Cancer Mortality Rate (Age-Adjust...</td>\n",
       "      <td>2013</td>\n",
       "      <td>Male</td>\n",
       "      <td>All</td>\n",
       "      <td>195.8</td>\n",
       "      <td>Atlanta (Fulton County), GA</td>\n",
       "      <td>2012, 2013, 2014; per 100,000 population using...</td>\n",
       "      <td>National Center for Health Statistics (NCHS), CDC</td>\n",
       "      <td>NaN</td>\n",
       "      <td>NaN</td>\n",
       "    </tr>\n",
       "    <tr>\n",
       "      <th>4</th>\n",
       "      <td>Cancer</td>\n",
       "      <td>All Types of Cancer Mortality Rate (Age-Adjust...</td>\n",
       "      <td>2013</td>\n",
       "      <td>Female</td>\n",
       "      <td>All</td>\n",
       "      <td>135.5</td>\n",
       "      <td>Atlanta (Fulton County), GA</td>\n",
       "      <td>2012, 2013, 2014; per 100,000 population using...</td>\n",
       "      <td>National Center for Health Statistics (NCHS), CDC</td>\n",
       "      <td>NaN</td>\n",
       "      <td>NaN</td>\n",
       "    </tr>\n",
       "  </tbody>\n",
       "</table>\n",
       "</div>"
      ],
      "text/plain": [
       "  Indicator Category                                          Indicator  Year  \\\n",
       "0           HIV/AIDS           AIDS Diagnoses Rate (Per 100,000 people)  2013   \n",
       "1           HIV/AIDS           AIDS Diagnoses Rate (Per 100,000 people)  2012   \n",
       "2           HIV/AIDS           AIDS Diagnoses Rate (Per 100,000 people)  2011   \n",
       "3             Cancer  All Types of Cancer Mortality Rate (Age-Adjust...  2013   \n",
       "4             Cancer  All Types of Cancer Mortality Rate (Age-Adjust...  2013   \n",
       "\n",
       "   Gender Race/ Ethnicity  Value                        Place  \\\n",
       "0    Both             All   30.4  Atlanta (Fulton County), GA   \n",
       "1    Both             All   39.6  Atlanta (Fulton County), GA   \n",
       "2    Both             All   41.7  Atlanta (Fulton County), GA   \n",
       "3    Male             All  195.8  Atlanta (Fulton County), GA   \n",
       "4  Female             All  135.5  Atlanta (Fulton County), GA   \n",
       "\n",
       "                          BCHC Requested Methodology  \\\n",
       "0  AIDS cases diagnosed in 2012, 2013, 2014 (as a...   \n",
       "1  AIDS cases diagnosed in 2012, 2013, 2014 (as a...   \n",
       "2  AIDS cases diagnosed in 2012, 2013, 2014 (as a...   \n",
       "3  2012, 2013, 2014; per 100,000 population using...   \n",
       "4  2012, 2013, 2014; per 100,000 population using...   \n",
       "\n",
       "                                              Source Methods Notes  \n",
       "0  Diagnoses numbers were obtained from the Georg...     NaN   NaN  \n",
       "1  Diagnoses numbers were obtained from the Georg...     NaN   NaN  \n",
       "2  Diagnoses numbers were obtained from the Georg...     NaN   NaN  \n",
       "3  National Center for Health Statistics (NCHS), CDC     NaN   NaN  \n",
       "4  National Center for Health Statistics (NCHS), CDC     NaN   NaN  "
      ]
     },
     "execution_count": 3,
     "metadata": {},
     "output_type": "execute_result"
    }
   ],
   "source": [
    "#to see top 5 rows\n",
    "df.head()"
   ]
  },
  {
   "cell_type": "code",
   "execution_count": 4,
   "metadata": {},
   "outputs": [
    {
     "data": {
      "text/html": [
       "<div>\n",
       "<style scoped>\n",
       "    .dataframe tbody tr th:only-of-type {\n",
       "        vertical-align: middle;\n",
       "    }\n",
       "\n",
       "    .dataframe tbody tr th {\n",
       "        vertical-align: top;\n",
       "    }\n",
       "\n",
       "    .dataframe thead th {\n",
       "        text-align: right;\n",
       "    }\n",
       "</style>\n",
       "<table border=\"1\" class=\"dataframe\">\n",
       "  <thead>\n",
       "    <tr style=\"text-align: right;\">\n",
       "      <th></th>\n",
       "      <th>Indicator Category</th>\n",
       "      <th>Indicator</th>\n",
       "      <th>Year</th>\n",
       "      <th>Gender</th>\n",
       "      <th>Race/ Ethnicity</th>\n",
       "      <th>Value</th>\n",
       "      <th>Place</th>\n",
       "      <th>BCHC Requested Methodology</th>\n",
       "      <th>Source</th>\n",
       "      <th>Methods</th>\n",
       "      <th>Notes</th>\n",
       "    </tr>\n",
       "  </thead>\n",
       "  <tbody>\n",
       "    <tr>\n",
       "      <th>13507</th>\n",
       "      <td>Food Safety</td>\n",
       "      <td>Rate of Laboratory Confirmed Infections Caused...</td>\n",
       "      <td>2013</td>\n",
       "      <td>Female</td>\n",
       "      <td>All</td>\n",
       "      <td>14.3</td>\n",
       "      <td>Kansas City, MO</td>\n",
       "      <td>2012, 2013, 2014: per 100,000 population using...</td>\n",
       "      <td>MDHSS WebSurv – Communicable Disease Registry ...</td>\n",
       "      <td>NaN</td>\n",
       "      <td>NaN</td>\n",
       "    </tr>\n",
       "    <tr>\n",
       "      <th>13508</th>\n",
       "      <td>Food Safety</td>\n",
       "      <td>Rate of Laboratory Confirmed Infections Caused...</td>\n",
       "      <td>2013</td>\n",
       "      <td>Male</td>\n",
       "      <td>All</td>\n",
       "      <td>6.2</td>\n",
       "      <td>Kansas City, MO</td>\n",
       "      <td>2012, 2013, 2014: per 100,000 population using...</td>\n",
       "      <td>MDHSS WebSurv – Communicable Disease Registry ...</td>\n",
       "      <td>NaN</td>\n",
       "      <td>NaN</td>\n",
       "    </tr>\n",
       "    <tr>\n",
       "      <th>13509</th>\n",
       "      <td>Food Safety</td>\n",
       "      <td>Rate of Laboratory Confirmed Infections Caused...</td>\n",
       "      <td>2014</td>\n",
       "      <td>Both</td>\n",
       "      <td>All</td>\n",
       "      <td>12.7</td>\n",
       "      <td>Kansas City, MO</td>\n",
       "      <td>2012, 2013, 2014: per 100,000 population using...</td>\n",
       "      <td>MDHSS WebSurv – Communicable Disease Registry ...</td>\n",
       "      <td>NaN</td>\n",
       "      <td>NaN</td>\n",
       "    </tr>\n",
       "    <tr>\n",
       "      <th>13510</th>\n",
       "      <td>Food Safety</td>\n",
       "      <td>Rate of Laboratory Confirmed Infections Caused...</td>\n",
       "      <td>2014</td>\n",
       "      <td>Female</td>\n",
       "      <td>All</td>\n",
       "      <td>13.3</td>\n",
       "      <td>Kansas City, MO</td>\n",
       "      <td>2012, 2013, 2014: per 100,000 population using...</td>\n",
       "      <td>MDHSS WebSurv – Communicable Disease Registry ...</td>\n",
       "      <td>NaN</td>\n",
       "      <td>NaN</td>\n",
       "    </tr>\n",
       "    <tr>\n",
       "      <th>13511</th>\n",
       "      <td>Food Safety</td>\n",
       "      <td>Rate of Laboratory Confirmed Infections Caused...</td>\n",
       "      <td>2014</td>\n",
       "      <td>Male</td>\n",
       "      <td>All</td>\n",
       "      <td>12.0</td>\n",
       "      <td>Kansas City, MO</td>\n",
       "      <td>2012, 2013, 2014: per 100,000 population using...</td>\n",
       "      <td>MDHSS WebSurv – Communicable Disease Registry ...</td>\n",
       "      <td>NaN</td>\n",
       "      <td>NaN</td>\n",
       "    </tr>\n",
       "  </tbody>\n",
       "</table>\n",
       "</div>"
      ],
      "text/plain": [
       "      Indicator Category                                          Indicator  \\\n",
       "13507        Food Safety  Rate of Laboratory Confirmed Infections Caused...   \n",
       "13508        Food Safety  Rate of Laboratory Confirmed Infections Caused...   \n",
       "13509        Food Safety  Rate of Laboratory Confirmed Infections Caused...   \n",
       "13510        Food Safety  Rate of Laboratory Confirmed Infections Caused...   \n",
       "13511        Food Safety  Rate of Laboratory Confirmed Infections Caused...   \n",
       "\n",
       "       Year  Gender Race/ Ethnicity  Value            Place  \\\n",
       "13507  2013  Female             All   14.3  Kansas City, MO   \n",
       "13508  2013    Male             All    6.2  Kansas City, MO   \n",
       "13509  2014    Both             All   12.7  Kansas City, MO   \n",
       "13510  2014  Female             All   13.3  Kansas City, MO   \n",
       "13511  2014    Male             All   12.0  Kansas City, MO   \n",
       "\n",
       "                              BCHC Requested Methodology  \\\n",
       "13507  2012, 2013, 2014: per 100,000 population using...   \n",
       "13508  2012, 2013, 2014: per 100,000 population using...   \n",
       "13509  2012, 2013, 2014: per 100,000 population using...   \n",
       "13510  2012, 2013, 2014: per 100,000 population using...   \n",
       "13511  2012, 2013, 2014: per 100,000 population using...   \n",
       "\n",
       "                                                  Source Methods Notes  \n",
       "13507  MDHSS WebSurv – Communicable Disease Registry ...     NaN   NaN  \n",
       "13508  MDHSS WebSurv – Communicable Disease Registry ...     NaN   NaN  \n",
       "13509  MDHSS WebSurv – Communicable Disease Registry ...     NaN   NaN  \n",
       "13510  MDHSS WebSurv – Communicable Disease Registry ...     NaN   NaN  \n",
       "13511  MDHSS WebSurv – Communicable Disease Registry ...     NaN   NaN  "
      ]
     },
     "execution_count": 4,
     "metadata": {},
     "output_type": "execute_result"
    }
   ],
   "source": [
    "# to see bottom 5 rows\n",
    "df.tail()"
   ]
  },
  {
   "cell_type": "code",
   "execution_count": 5,
   "metadata": {},
   "outputs": [
    {
     "name": "stdout",
     "output_type": "stream",
     "text": [
      "<class 'pandas.core.frame.DataFrame'>\n",
      "RangeIndex: 13512 entries, 0 to 13511\n",
      "Data columns (total 11 columns):\n",
      " #   Column                      Non-Null Count  Dtype  \n",
      "---  ------                      --------------  -----  \n",
      " 0   Indicator Category          13512 non-null  object \n",
      " 1   Indicator                   13512 non-null  object \n",
      " 2   Year                        13512 non-null  object \n",
      " 3   Gender                      13512 non-null  object \n",
      " 4   Race/ Ethnicity             13512 non-null  object \n",
      " 5   Value                       13499 non-null  float64\n",
      " 6   Place                       13512 non-null  object \n",
      " 7   BCHC Requested Methodology  13004 non-null  object \n",
      " 8   Source                      11222 non-null  object \n",
      " 9   Methods                     4232 non-null   object \n",
      " 10  Notes                       3541 non-null   object \n",
      "dtypes: float64(1), object(10)\n",
      "memory usage: 1.1+ MB\n"
     ]
    }
   ],
   "source": [
    "df.info()"
   ]
  },
  {
   "cell_type": "code",
   "execution_count": 6,
   "metadata": {},
   "outputs": [
    {
     "data": {
      "text/html": [
       "<div>\n",
       "<style scoped>\n",
       "    .dataframe tbody tr th:only-of-type {\n",
       "        vertical-align: middle;\n",
       "    }\n",
       "\n",
       "    .dataframe tbody tr th {\n",
       "        vertical-align: top;\n",
       "    }\n",
       "\n",
       "    .dataframe thead th {\n",
       "        text-align: right;\n",
       "    }\n",
       "</style>\n",
       "<table border=\"1\" class=\"dataframe\">\n",
       "  <thead>\n",
       "    <tr style=\"text-align: right;\">\n",
       "      <th></th>\n",
       "      <th>Indicator Category</th>\n",
       "      <th>Indicator</th>\n",
       "      <th>Year</th>\n",
       "      <th>Gender</th>\n",
       "      <th>Race/ Ethnicity</th>\n",
       "      <th>Value</th>\n",
       "      <th>Place</th>\n",
       "      <th>BCHC Requested Methodology</th>\n",
       "      <th>Source</th>\n",
       "      <th>Methods</th>\n",
       "      <th>Notes</th>\n",
       "    </tr>\n",
       "  </thead>\n",
       "  <tbody>\n",
       "    <tr>\n",
       "      <th>count</th>\n",
       "      <td>13512</td>\n",
       "      <td>13512</td>\n",
       "      <td>13512</td>\n",
       "      <td>13512</td>\n",
       "      <td>13512</td>\n",
       "      <td>13499.000000</td>\n",
       "      <td>13512</td>\n",
       "      <td>13004</td>\n",
       "      <td>11222</td>\n",
       "      <td>4232</td>\n",
       "      <td>3541</td>\n",
       "    </tr>\n",
       "    <tr>\n",
       "      <th>unique</th>\n",
       "      <td>11</td>\n",
       "      <td>44</td>\n",
       "      <td>13</td>\n",
       "      <td>3</td>\n",
       "      <td>9</td>\n",
       "      <td>NaN</td>\n",
       "      <td>29</td>\n",
       "      <td>114</td>\n",
       "      <td>306</td>\n",
       "      <td>167</td>\n",
       "      <td>125</td>\n",
       "    </tr>\n",
       "    <tr>\n",
       "      <th>top</th>\n",
       "      <td>HIV/AIDS</td>\n",
       "      <td>Persons Living with HIV/AIDS Rate (Per 100,000...</td>\n",
       "      <td>2012</td>\n",
       "      <td>Both</td>\n",
       "      <td>All</td>\n",
       "      <td>NaN</td>\n",
       "      <td>Phoenix, AZ</td>\n",
       "      <td>2012, 2013, 2014: per 100,000 population using...</td>\n",
       "      <td>Source: California Electronic Death Registrati...</td>\n",
       "      <td>Population denominators based on extrapolation...</td>\n",
       "      <td>Deaths for which cause was listed as “deferred...</td>\n",
       "    </tr>\n",
       "    <tr>\n",
       "      <th>freq</th>\n",
       "      <td>2177</td>\n",
       "      <td>623</td>\n",
       "      <td>3950</td>\n",
       "      <td>9409</td>\n",
       "      <td>5757</td>\n",
       "      <td>NaN</td>\n",
       "      <td>772</td>\n",
       "      <td>734</td>\n",
       "      <td>386</td>\n",
       "      <td>233</td>\n",
       "      <td>381</td>\n",
       "    </tr>\n",
       "    <tr>\n",
       "      <th>mean</th>\n",
       "      <td>NaN</td>\n",
       "      <td>NaN</td>\n",
       "      <td>NaN</td>\n",
       "      <td>NaN</td>\n",
       "      <td>NaN</td>\n",
       "      <td>285.688562</td>\n",
       "      <td>NaN</td>\n",
       "      <td>NaN</td>\n",
       "      <td>NaN</td>\n",
       "      <td>NaN</td>\n",
       "      <td>NaN</td>\n",
       "    </tr>\n",
       "    <tr>\n",
       "      <th>std</th>\n",
       "      <td>NaN</td>\n",
       "      <td>NaN</td>\n",
       "      <td>NaN</td>\n",
       "      <td>NaN</td>\n",
       "      <td>NaN</td>\n",
       "      <td>3192.666847</td>\n",
       "      <td>NaN</td>\n",
       "      <td>NaN</td>\n",
       "      <td>NaN</td>\n",
       "      <td>NaN</td>\n",
       "      <td>NaN</td>\n",
       "    </tr>\n",
       "    <tr>\n",
       "      <th>min</th>\n",
       "      <td>NaN</td>\n",
       "      <td>NaN</td>\n",
       "      <td>NaN</td>\n",
       "      <td>NaN</td>\n",
       "      <td>NaN</td>\n",
       "      <td>0.000000</td>\n",
       "      <td>NaN</td>\n",
       "      <td>NaN</td>\n",
       "      <td>NaN</td>\n",
       "      <td>NaN</td>\n",
       "      <td>NaN</td>\n",
       "    </tr>\n",
       "    <tr>\n",
       "      <th>25%</th>\n",
       "      <td>NaN</td>\n",
       "      <td>NaN</td>\n",
       "      <td>NaN</td>\n",
       "      <td>NaN</td>\n",
       "      <td>NaN</td>\n",
       "      <td>7.000000</td>\n",
       "      <td>NaN</td>\n",
       "      <td>NaN</td>\n",
       "      <td>NaN</td>\n",
       "      <td>NaN</td>\n",
       "      <td>NaN</td>\n",
       "    </tr>\n",
       "    <tr>\n",
       "      <th>50%</th>\n",
       "      <td>NaN</td>\n",
       "      <td>NaN</td>\n",
       "      <td>NaN</td>\n",
       "      <td>NaN</td>\n",
       "      <td>NaN</td>\n",
       "      <td>16.100000</td>\n",
       "      <td>NaN</td>\n",
       "      <td>NaN</td>\n",
       "      <td>NaN</td>\n",
       "      <td>NaN</td>\n",
       "      <td>NaN</td>\n",
       "    </tr>\n",
       "    <tr>\n",
       "      <th>75%</th>\n",
       "      <td>NaN</td>\n",
       "      <td>NaN</td>\n",
       "      <td>NaN</td>\n",
       "      <td>NaN</td>\n",
       "      <td>NaN</td>\n",
       "      <td>45.200000</td>\n",
       "      <td>NaN</td>\n",
       "      <td>NaN</td>\n",
       "      <td>NaN</td>\n",
       "      <td>NaN</td>\n",
       "      <td>NaN</td>\n",
       "    </tr>\n",
       "    <tr>\n",
       "      <th>max</th>\n",
       "      <td>NaN</td>\n",
       "      <td>NaN</td>\n",
       "      <td>NaN</td>\n",
       "      <td>NaN</td>\n",
       "      <td>NaN</td>\n",
       "      <td>80977.000000</td>\n",
       "      <td>NaN</td>\n",
       "      <td>NaN</td>\n",
       "      <td>NaN</td>\n",
       "      <td>NaN</td>\n",
       "      <td>NaN</td>\n",
       "    </tr>\n",
       "  </tbody>\n",
       "</table>\n",
       "</div>"
      ],
      "text/plain": [
       "       Indicator Category                                          Indicator  \\\n",
       "count               13512                                              13512   \n",
       "unique                 11                                                 44   \n",
       "top              HIV/AIDS  Persons Living with HIV/AIDS Rate (Per 100,000...   \n",
       "freq                 2177                                                623   \n",
       "mean                  NaN                                                NaN   \n",
       "std                   NaN                                                NaN   \n",
       "min                   NaN                                                NaN   \n",
       "25%                   NaN                                                NaN   \n",
       "50%                   NaN                                                NaN   \n",
       "75%                   NaN                                                NaN   \n",
       "max                   NaN                                                NaN   \n",
       "\n",
       "         Year Gender Race/ Ethnicity         Value        Place  \\\n",
       "count   13512  13512           13512  13499.000000        13512   \n",
       "unique     13      3               9           NaN           29   \n",
       "top      2012   Both             All           NaN  Phoenix, AZ   \n",
       "freq     3950   9409            5757           NaN          772   \n",
       "mean      NaN    NaN             NaN    285.688562          NaN   \n",
       "std       NaN    NaN             NaN   3192.666847          NaN   \n",
       "min       NaN    NaN             NaN      0.000000          NaN   \n",
       "25%       NaN    NaN             NaN      7.000000          NaN   \n",
       "50%       NaN    NaN             NaN     16.100000          NaN   \n",
       "75%       NaN    NaN             NaN     45.200000          NaN   \n",
       "max       NaN    NaN             NaN  80977.000000          NaN   \n",
       "\n",
       "                               BCHC Requested Methodology  \\\n",
       "count                                               13004   \n",
       "unique                                                114   \n",
       "top     2012, 2013, 2014: per 100,000 population using...   \n",
       "freq                                                  734   \n",
       "mean                                                  NaN   \n",
       "std                                                   NaN   \n",
       "min                                                   NaN   \n",
       "25%                                                   NaN   \n",
       "50%                                                   NaN   \n",
       "75%                                                   NaN   \n",
       "max                                                   NaN   \n",
       "\n",
       "                                                   Source  \\\n",
       "count                                               11222   \n",
       "unique                                                306   \n",
       "top     Source: California Electronic Death Registrati...   \n",
       "freq                                                  386   \n",
       "mean                                                  NaN   \n",
       "std                                                   NaN   \n",
       "min                                                   NaN   \n",
       "25%                                                   NaN   \n",
       "50%                                                   NaN   \n",
       "75%                                                   NaN   \n",
       "max                                                   NaN   \n",
       "\n",
       "                                                  Methods  \\\n",
       "count                                                4232   \n",
       "unique                                                167   \n",
       "top     Population denominators based on extrapolation...   \n",
       "freq                                                  233   \n",
       "mean                                                  NaN   \n",
       "std                                                   NaN   \n",
       "min                                                   NaN   \n",
       "25%                                                   NaN   \n",
       "50%                                                   NaN   \n",
       "75%                                                   NaN   \n",
       "max                                                   NaN   \n",
       "\n",
       "                                                    Notes  \n",
       "count                                                3541  \n",
       "unique                                                125  \n",
       "top     Deaths for which cause was listed as “deferred...  \n",
       "freq                                                  381  \n",
       "mean                                                  NaN  \n",
       "std                                                   NaN  \n",
       "min                                                   NaN  \n",
       "25%                                                   NaN  \n",
       "50%                                                   NaN  \n",
       "75%                                                   NaN  \n",
       "max                                                   NaN  "
      ]
     },
     "execution_count": 6,
     "metadata": {},
     "output_type": "execute_result"
    }
   ],
   "source": [
    "df.describe(include = 'all')"
   ]
  },
  {
   "cell_type": "code",
   "execution_count": 7,
   "metadata": {},
   "outputs": [
    {
     "data": {
      "text/plain": [
       "Indicator Category            0.000000\n",
       "Indicator                     0.000000\n",
       "Year                          0.000000\n",
       "Gender                        0.000000\n",
       "Race/ Ethnicity               0.000000\n",
       "Value                         0.000962\n",
       "Place                         0.000000\n",
       "BCHC Requested Methodology    0.037596\n",
       "Source                        0.169479\n",
       "Methods                       0.686797\n",
       "Notes                         0.737937\n",
       "dtype: float64"
      ]
     },
     "execution_count": 7,
     "metadata": {},
     "output_type": "execute_result"
    }
   ],
   "source": [
    "df.isna().mean()"
   ]
  },
  {
   "cell_type": "code",
   "execution_count": 8,
   "metadata": {},
   "outputs": [],
   "source": [
    "df.dropna(subset = ['Value'], inplace = True)"
   ]
  },
  {
   "cell_type": "code",
   "execution_count": 9,
   "metadata": {},
   "outputs": [
    {
     "data": {
      "text/plain": [
       "0"
      ]
     },
     "execution_count": 9,
     "metadata": {},
     "output_type": "execute_result"
    }
   ],
   "source": [
    "df.Value.isna().sum()"
   ]
  },
  {
   "cell_type": "code",
   "execution_count": 10,
   "metadata": {},
   "outputs": [
    {
     "data": {
      "text/html": [
       "<div>\n",
       "<style scoped>\n",
       "    .dataframe tbody tr th:only-of-type {\n",
       "        vertical-align: middle;\n",
       "    }\n",
       "\n",
       "    .dataframe tbody tr th {\n",
       "        vertical-align: top;\n",
       "    }\n",
       "\n",
       "    .dataframe thead th {\n",
       "        text-align: right;\n",
       "    }\n",
       "</style>\n",
       "<table border=\"1\" class=\"dataframe\">\n",
       "  <thead>\n",
       "    <tr style=\"text-align: right;\">\n",
       "      <th></th>\n",
       "      <th>Indicator Category</th>\n",
       "      <th>Indicator</th>\n",
       "      <th>Year</th>\n",
       "      <th>Gender</th>\n",
       "      <th>Race/ Ethnicity</th>\n",
       "      <th>Value</th>\n",
       "      <th>Place</th>\n",
       "      <th>BCHC Requested Methodology</th>\n",
       "      <th>Source</th>\n",
       "      <th>Methods</th>\n",
       "      <th>Notes</th>\n",
       "    </tr>\n",
       "  </thead>\n",
       "  <tbody>\n",
       "    <tr>\n",
       "      <th>12323</th>\n",
       "      <td>Demographics</td>\n",
       "      <td>Unemployment Rate Ages 16+</td>\n",
       "      <td>2013</td>\n",
       "      <td>Both</td>\n",
       "      <td>All</td>\n",
       "      <td>7.4</td>\n",
       "      <td>U.S. Total</td>\n",
       "      <td>NaN</td>\n",
       "      <td>U.S. Census Bureau</td>\n",
       "      <td>NaN</td>\n",
       "      <td>NaN</td>\n",
       "    </tr>\n",
       "  </tbody>\n",
       "</table>\n",
       "</div>"
      ],
      "text/plain": [
       "      Indicator Category                   Indicator  Year Gender  \\\n",
       "12323       Demographics  Unemployment Rate Ages 16+  2013   Both   \n",
       "\n",
       "      Race/ Ethnicity  Value       Place BCHC Requested Methodology  \\\n",
       "12323             All    7.4  U.S. Total                        NaN   \n",
       "\n",
       "                   Source Methods Notes  \n",
       "12323  U.S. Census Bureau     NaN   NaN  "
      ]
     },
     "execution_count": 10,
     "metadata": {},
     "output_type": "execute_result"
    }
   ],
   "source": [
    "df[df.duplicated()]"
   ]
  },
  {
   "cell_type": "code",
   "execution_count": 11,
   "metadata": {},
   "outputs": [],
   "source": [
    "df.drop_duplicates(inplace = True)"
   ]
  },
  {
   "cell_type": "code",
   "execution_count": 12,
   "metadata": {},
   "outputs": [
    {
     "data": {
      "text/plain": [
       "0"
      ]
     },
     "execution_count": 12,
     "metadata": {},
     "output_type": "execute_result"
    }
   ],
   "source": [
    "df.duplicated().sum()"
   ]
  },
  {
   "cell_type": "code",
   "execution_count": 13,
   "metadata": {},
   "outputs": [
    {
     "data": {
      "text/plain": [
       "Methods    9272\n",
       "Notes      9963\n",
       "dtype: int64"
      ]
     },
     "execution_count": 13,
     "metadata": {},
     "output_type": "execute_result"
    }
   ],
   "source": [
    "df.loc[:,['Methods','Notes']].isna().sum()\n",
    "#more than 50 % of the data are null values"
   ]
  },
  {
   "cell_type": "code",
   "execution_count": 14,
   "metadata": {},
   "outputs": [],
   "source": [
    "df.drop(['Methods', 'Notes'], axis = 1, inplace = True)"
   ]
  },
  {
   "cell_type": "code",
   "execution_count": 15,
   "metadata": {},
   "outputs": [
    {
     "data": {
      "text/plain": [
       "114"
      ]
     },
     "execution_count": 15,
     "metadata": {},
     "output_type": "execute_result"
    }
   ],
   "source": [
    "df['BCHC Requested Methodology'].nunique()"
   ]
  },
  {
   "cell_type": "code",
   "execution_count": 16,
   "metadata": {},
   "outputs": [
    {
     "data": {
      "text/plain": [
       "'2012, 2013, 2014: per 100,000 population using 2010 US Census figures. Please specify population/source/ methodology - this is an area where data sources vary greatly. If 2012-2014 not available, provide three most recent years of data'"
      ]
     },
     "execution_count": 16,
     "metadata": {},
     "output_type": "execute_result"
    }
   ],
   "source": [
    "df['BCHC Requested Methodology'].value_counts().index[0]"
   ]
  },
  {
   "cell_type": "code",
   "execution_count": 17,
   "metadata": {},
   "outputs": [
    {
     "data": {
      "text/plain": [
       "306"
      ]
     },
     "execution_count": 17,
     "metadata": {},
     "output_type": "execute_result"
    }
   ],
   "source": [
    "df['Source'].nunique()"
   ]
  },
  {
   "cell_type": "code",
   "execution_count": 18,
   "metadata": {},
   "outputs": [
    {
     "data": {
      "text/plain": [
       "'Source: California Electronic Death Registration System (CA-EDRS), as of April 1, 2016.  Includes immediate cause of death and contributing causes of death.   Includes records for which Long Beach was recorded on the death certificate as the decedent’s city of residence.  Duplicate records due to revisions to the death certificate are not included.  ICD-10 codes were not included in the dataset; algorithms were written to match key words from cause of death to the corresponding ICD-10 diagnosis.'"
      ]
     },
     "execution_count": 18,
     "metadata": {},
     "output_type": "execute_result"
    }
   ],
   "source": [
    "df['Source'].value_counts().index[0]"
   ]
  },
  {
   "cell_type": "code",
   "execution_count": 19,
   "metadata": {},
   "outputs": [],
   "source": [
    "for i in ['BCHC Requested Methodology', 'Source']:\n",
    "    df[i].fillna(df['Source'].value_counts().index[0], inplace = True)\n",
    "    "
   ]
  },
  {
   "cell_type": "code",
   "execution_count": 20,
   "metadata": {},
   "outputs": [
    {
     "data": {
      "text/plain": [
       "Indicator Category            0\n",
       "Indicator                     0\n",
       "Year                          0\n",
       "Gender                        0\n",
       "Race/ Ethnicity               0\n",
       "Value                         0\n",
       "Place                         0\n",
       "BCHC Requested Methodology    0\n",
       "Source                        0\n",
       "dtype: int64"
      ]
     },
     "execution_count": 20,
     "metadata": {},
     "output_type": "execute_result"
    }
   ],
   "source": [
    "df.isna().sum()"
   ]
  },
  {
   "cell_type": "code",
   "execution_count": 21,
   "metadata": {},
   "outputs": [
    {
     "data": {
      "text/plain": [
       "HIV/AIDS                                    2177\n",
       "Injury and Violence                         1916\n",
       "Nutrition, Physical Activity, & Obesity     1837\n",
       "Infectious Disease                          1486\n",
       "Cancer                                      1432\n",
       "Maternal and Child Health                   1323\n",
       "Behavioral Health/Substance Abuse            979\n",
       "Food Safety                                  874\n",
       "Life Expectancy and Death Rate (Overall)     544\n",
       "Demographics                                 500\n",
       "Tobacco                                      430\n",
       "Name: Indicator Category, dtype: int64"
      ]
     },
     "execution_count": 21,
     "metadata": {},
     "output_type": "execute_result"
    }
   ],
   "source": [
    "df['Indicator Category'].value_counts()\n"
   ]
  },
  {
   "cell_type": "code",
   "execution_count": 22,
   "metadata": {},
   "outputs": [],
   "source": [
    "grouped = df.groupby('Indicator Category')['Value'].sum().reset_index()"
   ]
  },
  {
   "cell_type": "code",
   "execution_count": 23,
   "metadata": {},
   "outputs": [
    {
     "data": {
      "text/html": [
       "<div>\n",
       "<style scoped>\n",
       "    .dataframe tbody tr th:only-of-type {\n",
       "        vertical-align: middle;\n",
       "    }\n",
       "\n",
       "    .dataframe tbody tr th {\n",
       "        vertical-align: top;\n",
       "    }\n",
       "\n",
       "    .dataframe thead th {\n",
       "        text-align: right;\n",
       "    }\n",
       "</style>\n",
       "<table border=\"1\" class=\"dataframe\">\n",
       "  <thead>\n",
       "    <tr style=\"text-align: right;\">\n",
       "      <th></th>\n",
       "      <th>Indicator Category</th>\n",
       "      <th>Value</th>\n",
       "    </tr>\n",
       "  </thead>\n",
       "  <tbody>\n",
       "    <tr>\n",
       "      <th>0</th>\n",
       "      <td>Behavioral Health/Substance Abuse</td>\n",
       "      <td>126869.2</td>\n",
       "    </tr>\n",
       "    <tr>\n",
       "      <th>1</th>\n",
       "      <td>Cancer</td>\n",
       "      <td>117156.3</td>\n",
       "    </tr>\n",
       "    <tr>\n",
       "      <th>2</th>\n",
       "      <td>Demographics</td>\n",
       "      <td>2603225.2</td>\n",
       "    </tr>\n",
       "    <tr>\n",
       "      <th>3</th>\n",
       "      <td>Food Safety</td>\n",
       "      <td>8314.9</td>\n",
       "    </tr>\n",
       "    <tr>\n",
       "      <th>4</th>\n",
       "      <td>HIV/AIDS</td>\n",
       "      <td>526276.1</td>\n",
       "    </tr>\n",
       "    <tr>\n",
       "      <th>5</th>\n",
       "      <td>Infectious Disease</td>\n",
       "      <td>33346.0</td>\n",
       "    </tr>\n",
       "    <tr>\n",
       "      <th>6</th>\n",
       "      <td>Injury and Violence</td>\n",
       "      <td>19324.3</td>\n",
       "    </tr>\n",
       "    <tr>\n",
       "      <th>7</th>\n",
       "      <td>Life Expectancy and Death Rate (Overall)</td>\n",
       "      <td>278356.3</td>\n",
       "    </tr>\n",
       "    <tr>\n",
       "      <th>8</th>\n",
       "      <td>Maternal and Child Health</td>\n",
       "      <td>11338.2</td>\n",
       "    </tr>\n",
       "    <tr>\n",
       "      <th>9</th>\n",
       "      <td>Nutrition, Physical Activity, &amp; Obesity</td>\n",
       "      <td>125725.3</td>\n",
       "    </tr>\n",
       "    <tr>\n",
       "      <th>10</th>\n",
       "      <td>Tobacco</td>\n",
       "      <td>6570.7</td>\n",
       "    </tr>\n",
       "  </tbody>\n",
       "</table>\n",
       "</div>"
      ],
      "text/plain": [
       "                          Indicator Category      Value\n",
       "0          Behavioral Health/Substance Abuse   126869.2\n",
       "1                                     Cancer   117156.3\n",
       "2                               Demographics  2603225.2\n",
       "3                                Food Safety     8314.9\n",
       "4                                   HIV/AIDS   526276.1\n",
       "5                         Infectious Disease    33346.0\n",
       "6                        Injury and Violence    19324.3\n",
       "7   Life Expectancy and Death Rate (Overall)   278356.3\n",
       "8                  Maternal and Child Health    11338.2\n",
       "9    Nutrition, Physical Activity, & Obesity   125725.3\n",
       "10                                   Tobacco     6570.7"
      ]
     },
     "execution_count": 23,
     "metadata": {},
     "output_type": "execute_result"
    }
   ],
   "source": [
    "grouped"
   ]
  },
  {
   "cell_type": "code",
   "execution_count": 24,
   "metadata": {},
   "outputs": [
    {
     "data": {
      "image/png": "[encoded data removed]",
      "text/plain": [
       "<Figure size 2880x1440 with 1 Axes>"
      ]
     },
     "metadata": {
      "needs_background": "light"
     },
     "output_type": "display_data"
    }
   ],
   "source": [
    "plt.figure(figsize = (40,20))\n",
    "g = sns.barplot(x = grouped['Indicator Category'], y = grouped['Value'])\n",
    "for index, row in grouped.iterrows():\n",
    "    g.text(row.name,row.Value, round(row.Value,2), color='black', ha=\"center\", fontsize = 18)\n",
    "    g.set_xlabel(\"Indicator Category\", fontsize=30)\n",
    "plt.show()\n",
    "#Looks Demographics has more values"
   ]
  },
  {
   "cell_type": "code",
   "execution_count": 25,
   "metadata": {},
   "outputs": [
    {
     "data": {
      "text/plain": [
       "2012         3947\n",
       "2013         3651\n",
       "2011         3498\n",
       "2010         1356\n",
       "2014         1019\n",
       "2008-2012       7\n",
       "2011-2012       6\n",
       "2015            6\n",
       "2007-2012       3\n",
       "2003-2012       2\n",
       "2011-2013       1\n",
       "2003-2013       1\n",
       "2004-2013       1\n",
       "Name: Year, dtype: int64"
      ]
     },
     "execution_count": 25,
     "metadata": {},
     "output_type": "execute_result"
    }
   ],
   "source": [
    "df['Year'].value_counts()"
   ]
  },
  {
   "cell_type": "code",
   "execution_count": 26,
   "metadata": {},
   "outputs": [
    {
     "data": {
      "text/plain": [
       "Both      9395\n",
       "Female    2423\n",
       "Male      1680\n",
       "Name: Gender, dtype: int64"
      ]
     },
     "execution_count": 26,
     "metadata": {},
     "output_type": "execute_result"
    }
   ],
   "source": [
    "df['Gender'].value_counts()"
   ]
  },
  {
   "cell_type": "code",
   "execution_count": 27,
   "metadata": {},
   "outputs": [
    {
     "data": {
      "text/plain": [
       "All                              5756\n",
       "White                            1914\n",
       "Black                            1865\n",
       "Hispanic                         1687\n",
       "Asian/PI                         1013\n",
       "Other                             565\n",
       "Native American                   370\n",
       "Multiracial                       270\n",
       "American Indian/Alaska Native      58\n",
       "Name: Race/ Ethnicity, dtype: int64"
      ]
     },
     "execution_count": 27,
     "metadata": {},
     "output_type": "execute_result"
    }
   ],
   "source": [
    "df['Race/ Ethnicity'].value_counts()"
   ]
  },
  {
   "cell_type": "code",
   "execution_count": 28,
   "metadata": {},
   "outputs": [
    {
     "data": {
      "text/html": [
       "<div>\n",
       "<style scoped>\n",
       "    .dataframe tbody tr th:only-of-type {\n",
       "        vertical-align: middle;\n",
       "    }\n",
       "\n",
       "    .dataframe tbody tr th {\n",
       "        vertical-align: top;\n",
       "    }\n",
       "\n",
       "    .dataframe thead th {\n",
       "        text-align: right;\n",
       "    }\n",
       "</style>\n",
       "<table border=\"1\" class=\"dataframe\">\n",
       "  <thead>\n",
       "    <tr style=\"text-align: right;\">\n",
       "      <th></th>\n",
       "      <th>Place</th>\n",
       "      <th>Value</th>\n",
       "    </tr>\n",
       "  </thead>\n",
       "  <tbody>\n",
       "    <tr>\n",
       "      <th>0</th>\n",
       "      <td>Atlanta (Fulton County), GA</td>\n",
       "      <td>125810.6</td>\n",
       "    </tr>\n",
       "    <tr>\n",
       "      <th>1</th>\n",
       "      <td>Baltimore, MD</td>\n",
       "      <td>128560.6</td>\n",
       "    </tr>\n",
       "    <tr>\n",
       "      <th>2</th>\n",
       "      <td>Boston, MA</td>\n",
       "      <td>146261.1</td>\n",
       "    </tr>\n",
       "    <tr>\n",
       "      <th>3</th>\n",
       "      <td>Chicago, IL</td>\n",
       "      <td>150423.3</td>\n",
       "    </tr>\n",
       "    <tr>\n",
       "      <th>4</th>\n",
       "      <td>Cleveland, OH</td>\n",
       "      <td>86749.3</td>\n",
       "    </tr>\n",
       "  </tbody>\n",
       "</table>\n",
       "</div>"
      ],
      "text/plain": [
       "                         Place     Value\n",
       "0  Atlanta (Fulton County), GA  125810.6\n",
       "1                Baltimore, MD  128560.6\n",
       "2                   Boston, MA  146261.1\n",
       "3                  Chicago, IL  150423.3\n",
       "4                Cleveland, OH   86749.3"
      ]
     },
     "execution_count": 28,
     "metadata": {},
     "output_type": "execute_result"
    }
   ],
   "source": [
    "grouped_place = df.groupby('Place')['Value'].sum().reset_index()\n",
    "\n",
    "grouped_place.head()"
   ]
  },
  {
   "cell_type": "code",
   "execution_count": 29,
   "metadata": {},
   "outputs": [
    {
     "data": {
      "image/png": "[encoded data removed]",
      "text/plain": [
       "<Figure size 4320x2160 with 1 Axes>"
      ]
     },
     "metadata": {
      "needs_background": "light"
     },
     "output_type": "display_data"
    }
   ],
   "source": [
    "plt.figure(figsize = (60,30))\n",
    "g = sns.barplot(x = grouped_place['Place'], y = grouped_place['Value'])\n",
    "for index, row in grouped_place.iterrows():\n",
    "    g.text(row.name,row.Value, round(row.Value), color='black', ha=\"center\", fontsize = 25)\n",
    "    g.set_xlabel(\"Place\", fontsize=40)\n",
    "plt.show()"
   ]
  },
  {
   "cell_type": "markdown",
   "metadata": {},
   "source": [
    "#### Encoding"
   ]
  },
  {
   "cell_type": "code",
   "execution_count": 30,
   "metadata": {},
   "outputs": [],
   "source": [
    "from sklearn.preprocessing import LabelEncoder"
   ]
  },
  {
   "cell_type": "code",
   "execution_count": 31,
   "metadata": {},
   "outputs": [],
   "source": [
    "le = LabelEncoder()"
   ]
  },
  {
   "cell_type": "code",
   "execution_count": 32,
   "metadata": {},
   "outputs": [],
   "source": [
    "df_encoded = pd.DataFrame()"
   ]
  },
  {
   "cell_type": "code",
   "execution_count": null,
   "metadata": {},
   "outputs": [],
   "source": [
    "data_to_encoded = df.select_dtypes(exclude = np.number)"
   ]
  },
  {
   "cell_type": "code",
   "execution_count": 33,
   "metadata": {},
   "outputs": [
    {
     "ename": "NameError",
     "evalue": "name 'data_to_encoded' is not defined",
     "output_type": "error",
     "traceback": [
      "\u001b[0;31m---------------------------------------------------------------------------\u001b[0m",
      "\u001b[0;31mNameError\u001b[0m                                 Traceback (most recent call last)",
      "\u001b[0;32m<ipython-input-33-2ce251b81cbc>\u001b[0m in \u001b[0;36m<module>\u001b[0;34m\u001b[0m\n\u001b[0;32m----> 1\u001b[0;31m \u001b[0;32mfor\u001b[0m \u001b[0mi\u001b[0m \u001b[0;32min\u001b[0m \u001b[0mdata_to_encoded\u001b[0m\u001b[0;34m:\u001b[0m\u001b[0;34m\u001b[0m\u001b[0;34m\u001b[0m\u001b[0m\n\u001b[0m\u001b[1;32m      2\u001b[0m     \u001b[0mdf_encoded\u001b[0m\u001b[0;34m[\u001b[0m\u001b[0mi\u001b[0m\u001b[0;34m]\u001b[0m \u001b[0;34m=\u001b[0m \u001b[0mle\u001b[0m\u001b[0;34m.\u001b[0m\u001b[0mfit_transform\u001b[0m\u001b[0;34m(\u001b[0m\u001b[0mdf\u001b[0m\u001b[0;34m[\u001b[0m\u001b[0mi\u001b[0m\u001b[0;34m]\u001b[0m\u001b[0;34m)\u001b[0m\u001b[0;34m\u001b[0m\u001b[0;34m\u001b[0m\u001b[0m\n",
      "\u001b[0;31mNameError\u001b[0m: name 'data_to_encoded' is not defined"
     ]
    }
   ],
   "source": [
    "for i in data_to_encoded:\n",
    "    df_encoded[i] = le.fit_transform(df[i])"
   ]
  },
  {
   "cell_type": "code",
   "execution_count": null,
   "metadata": {},
   "outputs": [],
   "source": [
    "df_encoded"
   ]
  },
  {
   "cell_type": "code",
   "execution_count": null,
   "metadata": {},
   "outputs": [],
   "source": [
    "y = df['Value']"
   ]
  },
  {
   "cell_type": "markdown",
   "metadata": {},
   "source": [
    "#### Train Test Split"
   ]
  },
  {
   "cell_type": "code",
   "execution_count": null,
   "metadata": {},
   "outputs": [],
   "source": [
    "X_train, X_test, y_train, y_test = train_test_split(df_encoded, y, test_size = 0.3, random_state = 103)"
   ]
  },
  {
   "cell_type": "markdown",
   "metadata": {},
   "source": [
    "#### Linear Model"
   ]
  },
  {
   "cell_type": "code",
   "execution_count": null,
   "metadata": {},
   "outputs": [],
   "source": [
    "lm = LinearRegression()\n",
    "\n",
    "lm.fit(X_train, y_train)"
   ]
  },
  {
   "cell_type": "code",
   "execution_count": null,
   "metadata": {},
   "outputs": [],
   "source": [
    "train_pred = lm.predict(X_train)\n",
    "\n",
    "test_pred = lm.predict(X_test)"
   ]
  },
  {
   "cell_type": "code",
   "execution_count": null,
   "metadata": {},
   "outputs": [],
   "source": [
    "plt.figure(figsize = (16,6))\n",
    "sns.kdeplot(y_train - train_pred)"
   ]
  },
  {
   "cell_type": "code",
   "execution_count": null,
   "metadata": {},
   "outputs": [],
   "source": [
    "plt.figure(figsize = (16,6))\n",
    "sns.kdeplot(np.array(y_test) - test_pred)"
   ]
  },
  {
   "cell_type": "markdown",
   "metadata": {},
   "source": [
    "### Error Metrics"
   ]
  },
  {
   "cell_type": "code",
   "execution_count": null,
   "metadata": {},
   "outputs": [],
   "source": [
    "print('Train MAE: ',metrics.mean_absolute_error(y_train, train_pred))\n",
    "\n",
    "print('Train MSE: ',metrics.mean_squared_error(y_train, train_pred))\n",
    "\n",
    "print('Train RSME: ',np.sqrt(metrics.mean_squared_error(y_train, train_pred)))\n",
    "\n",
    "print('Train R2: ', metrics.r2_score(y_train, train_pred))\n",
    "\n",
    "print('_ _'*11)\n",
    "\n",
    "print('Test MAE: ',metrics.mean_absolute_error(y_test, test_pred))\n",
    "\n",
    "print('Test MSE: ',metrics.mean_squared_error(y_test, test_pred))\n",
    "\n",
    "print('Test RSME: ',np.sqrt(metrics.mean_squared_error(y_test, test_pred)))\n",
    "\n",
    "print('Test R2: ', metrics.r2_score(y_test, test_pred))"
   ]
  }
 ],
 "metadata": {
  "kernelspec": {
   "display_name": "Python 3",
   "language": "python",
   "name": "python3"
  },
  "language_info": {
   "codemirror_mode": {
    "name": "ipython",
    "version": 3
   },
   "file_extension": ".py",
   "mimetype": "text/x-python",
   "name": "python",
   "nbconvert_exporter": "python",
   "pygments_lexer": "ipython3",
   "version": "3.8.5"
  }
 },
 "nbformat": 4,
 "nbformat_minor": 4
}
